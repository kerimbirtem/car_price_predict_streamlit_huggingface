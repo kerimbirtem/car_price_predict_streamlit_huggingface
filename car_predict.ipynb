{
 "cells": [
  {
   "cell_type": "markdown",
   "id": "716ad291",
   "metadata": {},
   "source": [
    "Libraries\n"
   ]
  },
  {
   "cell_type": "code",
   "execution_count": 1,
   "id": "b4ba50fd",
   "metadata": {},
   "outputs": [],
   "source": [
    "import pandas as pd\n",
    "from sklearn.model_selection import train_test_split #veri setini bölme işlemleri\n",
    "from sklearn.linear_model import LinearRegression #Doğrusal regresyon\n",
    "from sklearn.metrics import r2_score,mean_squared_error #modelimizin performansını ölçmek için\n",
    "from sklearn.compose import ColumnTransformer #Sütun dönüşüm işlemleri\n",
    "from sklearn.preprocessing import OneHotEncoder, StandardScaler # kategori - sayısal dönüşüm  ve ölçeklendirme\n",
    "from sklearn.pipeline import Pipeline #Veri işleme hattı"
   ]
  },
  {
   "cell_type": "markdown",
   "id": "e01654ac",
   "metadata": {},
   "source": [
    "data reading"
   ]
  },
  {
   "cell_type": "code",
   "execution_count": 7,
   "id": "d5a9ec98",
   "metadata": {},
   "outputs": [
    {
     "name": "stdout",
     "output_type": "stream",
     "text": [
      "Collecting xlrd\n",
      "  Downloading xlrd-2.0.1-py2.py3-none-any.whl (96 kB)\n",
      "                                              0.0/96.5 kB ? eta -:--:--\n",
      "     ------------                           30.7/96.5 kB 660.6 kB/s eta 0:00:01\n",
      "     ------------------------               61.4/96.5 kB 656.4 kB/s eta 0:00:01\n",
      "     -------------------------------------- 96.5/96.5 kB 927.9 kB/s eta 0:00:00\n",
      "Installing collected packages: xlrd\n",
      "Successfully installed xlrd-2.0.1\n",
      "Note: you may need to restart the kernel to use updated packages.\n"
     ]
    }
   ],
   "source": [
    "pip install xlrd"
   ]
  },
  {
   "cell_type": "code",
   "execution_count": 8,
   "id": "cd98ab81",
   "metadata": {},
   "outputs": [
    {
     "data": {
      "text/html": [
       "<div>\n",
       "<style scoped>\n",
       "    .dataframe tbody tr th:only-of-type {\n",
       "        vertical-align: middle;\n",
       "    }\n",
       "\n",
       "    .dataframe tbody tr th {\n",
       "        vertical-align: top;\n",
       "    }\n",
       "\n",
       "    .dataframe thead th {\n",
       "        text-align: right;\n",
       "    }\n",
       "</style>\n",
       "<table border=\"1\" class=\"dataframe\">\n",
       "  <thead>\n",
       "    <tr style=\"text-align: right;\">\n",
       "      <th></th>\n",
       "      <th>Price</th>\n",
       "      <th>Mileage</th>\n",
       "      <th>Make</th>\n",
       "      <th>Model</th>\n",
       "      <th>Trim</th>\n",
       "      <th>Type</th>\n",
       "      <th>Cylinder</th>\n",
       "      <th>Liter</th>\n",
       "      <th>Doors</th>\n",
       "      <th>Cruise</th>\n",
       "      <th>Sound</th>\n",
       "      <th>Leather</th>\n",
       "    </tr>\n",
       "  </thead>\n",
       "  <tbody>\n",
       "    <tr>\n",
       "      <th>0</th>\n",
       "      <td>17314.103129</td>\n",
       "      <td>8221</td>\n",
       "      <td>Buick</td>\n",
       "      <td>Century</td>\n",
       "      <td>Sedan 4D</td>\n",
       "      <td>Sedan</td>\n",
       "      <td>6</td>\n",
       "      <td>3.1</td>\n",
       "      <td>4</td>\n",
       "      <td>1</td>\n",
       "      <td>1</td>\n",
       "      <td>1</td>\n",
       "    </tr>\n",
       "    <tr>\n",
       "      <th>1</th>\n",
       "      <td>17542.036083</td>\n",
       "      <td>9135</td>\n",
       "      <td>Buick</td>\n",
       "      <td>Century</td>\n",
       "      <td>Sedan 4D</td>\n",
       "      <td>Sedan</td>\n",
       "      <td>6</td>\n",
       "      <td>3.1</td>\n",
       "      <td>4</td>\n",
       "      <td>1</td>\n",
       "      <td>1</td>\n",
       "      <td>0</td>\n",
       "    </tr>\n",
       "    <tr>\n",
       "      <th>2</th>\n",
       "      <td>16218.847862</td>\n",
       "      <td>13196</td>\n",
       "      <td>Buick</td>\n",
       "      <td>Century</td>\n",
       "      <td>Sedan 4D</td>\n",
       "      <td>Sedan</td>\n",
       "      <td>6</td>\n",
       "      <td>3.1</td>\n",
       "      <td>4</td>\n",
       "      <td>1</td>\n",
       "      <td>1</td>\n",
       "      <td>0</td>\n",
       "    </tr>\n",
       "    <tr>\n",
       "      <th>3</th>\n",
       "      <td>16336.913140</td>\n",
       "      <td>16342</td>\n",
       "      <td>Buick</td>\n",
       "      <td>Century</td>\n",
       "      <td>Sedan 4D</td>\n",
       "      <td>Sedan</td>\n",
       "      <td>6</td>\n",
       "      <td>3.1</td>\n",
       "      <td>4</td>\n",
       "      <td>1</td>\n",
       "      <td>0</td>\n",
       "      <td>0</td>\n",
       "    </tr>\n",
       "    <tr>\n",
       "      <th>4</th>\n",
       "      <td>16339.170324</td>\n",
       "      <td>19832</td>\n",
       "      <td>Buick</td>\n",
       "      <td>Century</td>\n",
       "      <td>Sedan 4D</td>\n",
       "      <td>Sedan</td>\n",
       "      <td>6</td>\n",
       "      <td>3.1</td>\n",
       "      <td>4</td>\n",
       "      <td>1</td>\n",
       "      <td>0</td>\n",
       "      <td>1</td>\n",
       "    </tr>\n",
       "    <tr>\n",
       "      <th>...</th>\n",
       "      <td>...</td>\n",
       "      <td>...</td>\n",
       "      <td>...</td>\n",
       "      <td>...</td>\n",
       "      <td>...</td>\n",
       "      <td>...</td>\n",
       "      <td>...</td>\n",
       "      <td>...</td>\n",
       "      <td>...</td>\n",
       "      <td>...</td>\n",
       "      <td>...</td>\n",
       "      <td>...</td>\n",
       "    </tr>\n",
       "    <tr>\n",
       "      <th>799</th>\n",
       "      <td>16507.070267</td>\n",
       "      <td>16229</td>\n",
       "      <td>Saturn</td>\n",
       "      <td>L Series</td>\n",
       "      <td>L300 Sedan 4D</td>\n",
       "      <td>Sedan</td>\n",
       "      <td>6</td>\n",
       "      <td>3.0</td>\n",
       "      <td>4</td>\n",
       "      <td>1</td>\n",
       "      <td>0</td>\n",
       "      <td>0</td>\n",
       "    </tr>\n",
       "    <tr>\n",
       "      <th>800</th>\n",
       "      <td>16175.957604</td>\n",
       "      <td>19095</td>\n",
       "      <td>Saturn</td>\n",
       "      <td>L Series</td>\n",
       "      <td>L300 Sedan 4D</td>\n",
       "      <td>Sedan</td>\n",
       "      <td>6</td>\n",
       "      <td>3.0</td>\n",
       "      <td>4</td>\n",
       "      <td>1</td>\n",
       "      <td>1</td>\n",
       "      <td>0</td>\n",
       "    </tr>\n",
       "    <tr>\n",
       "      <th>801</th>\n",
       "      <td>15731.132897</td>\n",
       "      <td>20484</td>\n",
       "      <td>Saturn</td>\n",
       "      <td>L Series</td>\n",
       "      <td>L300 Sedan 4D</td>\n",
       "      <td>Sedan</td>\n",
       "      <td>6</td>\n",
       "      <td>3.0</td>\n",
       "      <td>4</td>\n",
       "      <td>1</td>\n",
       "      <td>1</td>\n",
       "      <td>0</td>\n",
       "    </tr>\n",
       "    <tr>\n",
       "      <th>802</th>\n",
       "      <td>15118.893228</td>\n",
       "      <td>25979</td>\n",
       "      <td>Saturn</td>\n",
       "      <td>L Series</td>\n",
       "      <td>L300 Sedan 4D</td>\n",
       "      <td>Sedan</td>\n",
       "      <td>6</td>\n",
       "      <td>3.0</td>\n",
       "      <td>4</td>\n",
       "      <td>1</td>\n",
       "      <td>1</td>\n",
       "      <td>0</td>\n",
       "    </tr>\n",
       "    <tr>\n",
       "      <th>803</th>\n",
       "      <td>13585.636802</td>\n",
       "      <td>35662</td>\n",
       "      <td>Saturn</td>\n",
       "      <td>L Series</td>\n",
       "      <td>L300 Sedan 4D</td>\n",
       "      <td>Sedan</td>\n",
       "      <td>6</td>\n",
       "      <td>3.0</td>\n",
       "      <td>4</td>\n",
       "      <td>1</td>\n",
       "      <td>0</td>\n",
       "      <td>0</td>\n",
       "    </tr>\n",
       "  </tbody>\n",
       "</table>\n",
       "<p>804 rows × 12 columns</p>\n",
       "</div>"
      ],
      "text/plain": [
       "            Price  Mileage    Make     Model           Trim   Type  Cylinder  \\\n",
       "0    17314.103129     8221   Buick   Century       Sedan 4D  Sedan         6   \n",
       "1    17542.036083     9135   Buick   Century       Sedan 4D  Sedan         6   \n",
       "2    16218.847862    13196   Buick   Century       Sedan 4D  Sedan         6   \n",
       "3    16336.913140    16342   Buick   Century       Sedan 4D  Sedan         6   \n",
       "4    16339.170324    19832   Buick   Century       Sedan 4D  Sedan         6   \n",
       "..            ...      ...     ...       ...            ...    ...       ...   \n",
       "799  16507.070267    16229  Saturn  L Series  L300 Sedan 4D  Sedan         6   \n",
       "800  16175.957604    19095  Saturn  L Series  L300 Sedan 4D  Sedan         6   \n",
       "801  15731.132897    20484  Saturn  L Series  L300 Sedan 4D  Sedan         6   \n",
       "802  15118.893228    25979  Saturn  L Series  L300 Sedan 4D  Sedan         6   \n",
       "803  13585.636802    35662  Saturn  L Series  L300 Sedan 4D  Sedan         6   \n",
       "\n",
       "     Liter  Doors  Cruise  Sound  Leather  \n",
       "0      3.1      4       1      1        1  \n",
       "1      3.1      4       1      1        0  \n",
       "2      3.1      4       1      1        0  \n",
       "3      3.1      4       1      0        0  \n",
       "4      3.1      4       1      0        1  \n",
       "..     ...    ...     ...    ...      ...  \n",
       "799    3.0      4       1      0        0  \n",
       "800    3.0      4       1      1        0  \n",
       "801    3.0      4       1      1        0  \n",
       "802    3.0      4       1      1        0  \n",
       "803    3.0      4       1      0        0  \n",
       "\n",
       "[804 rows x 12 columns]"
      ]
     },
     "execution_count": 8,
     "metadata": {},
     "output_type": "execute_result"
    }
   ],
   "source": [
    "df=pd.read_excel('cars.xls')\n",
    "df"
   ]
  },
  {
   "cell_type": "code",
   "execution_count": 9,
   "id": "9a08717c",
   "metadata": {},
   "outputs": [
    {
     "name": "stdout",
     "output_type": "stream",
     "text": [
      "<class 'pandas.core.frame.DataFrame'>\n",
      "RangeIndex: 804 entries, 0 to 803\n",
      "Data columns (total 12 columns):\n",
      " #   Column    Non-Null Count  Dtype  \n",
      "---  ------    --------------  -----  \n",
      " 0   Price     804 non-null    float64\n",
      " 1   Mileage   804 non-null    int64  \n",
      " 2   Make      804 non-null    object \n",
      " 3   Model     804 non-null    object \n",
      " 4   Trim      804 non-null    object \n",
      " 5   Type      804 non-null    object \n",
      " 6   Cylinder  804 non-null    int64  \n",
      " 7   Liter     804 non-null    float64\n",
      " 8   Doors     804 non-null    int64  \n",
      " 9   Cruise    804 non-null    int64  \n",
      " 10  Sound     804 non-null    int64  \n",
      " 11  Leather   804 non-null    int64  \n",
      "dtypes: float64(2), int64(6), object(4)\n",
      "memory usage: 75.5+ KB\n"
     ]
    }
   ],
   "source": [
    "df.info()"
   ]
  },
  {
   "cell_type": "code",
   "execution_count": 10,
   "id": "6e2c939c",
   "metadata": {},
   "outputs": [
    {
     "data": {
      "text/plain": [
       "Chevrolet    320\n",
       "Pontiac      150\n",
       "SAAB         114\n",
       "Buick         80\n",
       "Cadillac      80\n",
       "Saturn        60\n",
       "Name: Make, dtype: int64"
      ]
     },
     "execution_count": 10,
     "metadata": {},
     "output_type": "execute_result"
    }
   ],
   "source": [
    "df['Make'].value_counts()"
   ]
  },
  {
   "cell_type": "code",
   "execution_count": 11,
   "id": "ba8c41ff",
   "metadata": {},
   "outputs": [
    {
     "data": {
      "text/plain": [
       "Malibu         60\n",
       "AVEO           60\n",
       "Cavalier       60\n",
       "Ion            50\n",
       "Cobalt         50\n",
       "9_3 HO         40\n",
       "Vibe           30\n",
       "Bonneville     30\n",
       "Monte Carlo    30\n",
       "Lacrosse       30\n",
       "Impala         30\n",
       "Grand Prix     30\n",
       "9_5            30\n",
       "Deville        30\n",
       "Lesabre        20\n",
       "Corvette       20\n",
       "9_3            20\n",
       "9_5 HO         20\n",
       "G6             20\n",
       "Grand Am       20\n",
       "Park Avenue    20\n",
       "Sunfire        10\n",
       "Century        10\n",
       "GTO            10\n",
       "Classic        10\n",
       "XLR-V8         10\n",
       "STS-V8         10\n",
       "STS-V6         10\n",
       "CTS            10\n",
       "CST-V          10\n",
       "L Series       10\n",
       "9-2X AWD        4\n",
       "Name: Model, dtype: int64"
      ]
     },
     "execution_count": 11,
     "metadata": {},
     "output_type": "execute_result"
    }
   ],
   "source": [
    "df['Model'].value_counts()"
   ]
  },
  {
   "cell_type": "code",
   "execution_count": 12,
   "id": "f704c4d4",
   "metadata": {},
   "outputs": [
    {
     "data": {
      "text/plain": [
       "Sedan 4D               170\n",
       "Coupe 2D                50\n",
       "LS Sedan 4D             50\n",
       "LT Sedan 4D             30\n",
       "LS Coupe 2D             30\n",
       "Quad Coupe 2D           20\n",
       "SE Sedan 4D             20\n",
       "Arc Sedan 4D            20\n",
       "GT Sedan 4D             20\n",
       "Aero Sedan 4D           20\n",
       "Linear Wagon 4D         14\n",
       "SLE Sedan 4D            10\n",
       "GT Coupe 2D             10\n",
       "GTP Sedan 4D            10\n",
       "AWD Sportwagon 4D       10\n",
       "Linear Conv 2D          10\n",
       "GT Sportwagon           10\n",
       "Sportwagon 4D           10\n",
       "SS Coupe 2D             10\n",
       "Linear Sedan 4D         10\n",
       "Aero Conv 2D            10\n",
       "Arc Conv 2D             10\n",
       "Arc Wagon 4D            10\n",
       "Aero Wagon 4D           10\n",
       "GXP Sedan 4D            10\n",
       "LT MAXX Hback 4D        10\n",
       "LT Coupe 2D             10\n",
       "LS Hatchback 4D         10\n",
       "CXL Sedan 4D            10\n",
       "CXS Sedan 4D            10\n",
       "Custom Sedan 4D         10\n",
       "Limited Sedan 4D        10\n",
       "Special Ed Ultra 4D     10\n",
       "DHS Sedan 4D            10\n",
       "DTS Sedan 4D            10\n",
       "Hardtop Conv 2D         10\n",
       "LT Hatchback 4D         10\n",
       "MAXX Hback 4D           10\n",
       "SVM Hatchback 4D        10\n",
       "SVM Sedan 4D            10\n",
       "LS Sport Coupe 2D       10\n",
       "LS Sport Sedan 4D       10\n",
       "Conv 2D                 10\n",
       "SS Sedan 4D             10\n",
       "LS MAXX Hback 4D        10\n",
       "CX Sedan 4D             10\n",
       "L300 Sedan 4D           10\n",
       "Name: Trim, dtype: int64"
      ]
     },
     "execution_count": 12,
     "metadata": {},
     "output_type": "execute_result"
    }
   ],
   "source": [
    "df['Trim'].value_counts()"
   ]
  },
  {
   "cell_type": "code",
   "execution_count": 13,
   "id": "20c86813",
   "metadata": {},
   "outputs": [
    {
     "data": {
      "text/plain": [
       "Sedan          490\n",
       "Coupe          140\n",
       "Wagon           64\n",
       "Hatchback       60\n",
       "Convertible     50\n",
       "Name: Type, dtype: int64"
      ]
     },
     "execution_count": 13,
     "metadata": {},
     "output_type": "execute_result"
    }
   ],
   "source": [
    "df['Type'].value_counts()"
   ]
  },
  {
   "cell_type": "code",
   "execution_count": 14,
   "id": "03fd8d00",
   "metadata": {},
   "outputs": [],
   "source": [
    "X=df.drop('Price',axis=1) #fiyat sütunu çıkar fiyata etki edenler kalsın\n",
    "y=df['Price'] #tahmin"
   ]
  },
  {
   "cell_type": "code",
   "execution_count": 15,
   "id": "13018537",
   "metadata": {},
   "outputs": [],
   "source": [
    "X_train,X_test,y_train,y_test=train_test_split(X,y,test_size=0.2,random_state=42)"
   ]
  },
  {
   "cell_type": "markdown",
   "id": "95696e51",
   "metadata": {},
   "source": [
    "Veri ön işleme, standartlaştırma ve OHE işlemlerini otomatikleştiriyoruz (standarlaştırıyoruz). Artık preprocess kullanarak kullanıcında arayüz aracılığıyla gelen veriyi mdoelimize uygun hale çevirebiliriz.\n"
   ]
  },
  {
   "cell_type": "code",
   "execution_count": 16,
   "id": "79e0e2cd",
   "metadata": {},
   "outputs": [],
   "source": [
    "preprocess=ColumnTransformer(\n",
    "    transformers=[\n",
    "        ('num',StandardScaler(),['Mileage', 'Cylinder','Liter','Doors']),\n",
    "        ('cat',OneHotEncoder(),['Make','Model','Trim','Type'])\n",
    "    ]\n",
    ")"
   ]
  },
  {
   "cell_type": "code",
   "execution_count": 17,
   "id": "980ce17d",
   "metadata": {},
   "outputs": [],
   "source": [
    "my_model=LinearRegression()"
   ]
  },
  {
   "cell_type": "code",
   "execution_count": 18,
   "id": "8e01e84f",
   "metadata": {},
   "outputs": [],
   "source": [
    "pipe=Pipeline(steps=[('preprocessor',preprocess),('model',my_model)])"
   ]
  },
  {
   "cell_type": "code",
   "execution_count": 19,
   "id": "43a223b6",
   "metadata": {},
   "outputs": [
    {
     "data": {
      "text/html": [
       "<style>#sk-container-id-1 {color: black;background-color: white;}#sk-container-id-1 pre{padding: 0;}#sk-container-id-1 div.sk-toggleable {background-color: white;}#sk-container-id-1 label.sk-toggleable__label {cursor: pointer;display: block;width: 100%;margin-bottom: 0;padding: 0.3em;box-sizing: border-box;text-align: center;}#sk-container-id-1 label.sk-toggleable__label-arrow:before {content: \"▸\";float: left;margin-right: 0.25em;color: #696969;}#sk-container-id-1 label.sk-toggleable__label-arrow:hover:before {color: black;}#sk-container-id-1 div.sk-estimator:hover label.sk-toggleable__label-arrow:before {color: black;}#sk-container-id-1 div.sk-toggleable__content {max-height: 0;max-width: 0;overflow: hidden;text-align: left;background-color: #f0f8ff;}#sk-container-id-1 div.sk-toggleable__content pre {margin: 0.2em;color: black;border-radius: 0.25em;background-color: #f0f8ff;}#sk-container-id-1 input.sk-toggleable__control:checked~div.sk-toggleable__content {max-height: 200px;max-width: 100%;overflow: auto;}#sk-container-id-1 input.sk-toggleable__control:checked~label.sk-toggleable__label-arrow:before {content: \"▾\";}#sk-container-id-1 div.sk-estimator input.sk-toggleable__control:checked~label.sk-toggleable__label {background-color: #d4ebff;}#sk-container-id-1 div.sk-label input.sk-toggleable__control:checked~label.sk-toggleable__label {background-color: #d4ebff;}#sk-container-id-1 input.sk-hidden--visually {border: 0;clip: rect(1px 1px 1px 1px);clip: rect(1px, 1px, 1px, 1px);height: 1px;margin: -1px;overflow: hidden;padding: 0;position: absolute;width: 1px;}#sk-container-id-1 div.sk-estimator {font-family: monospace;background-color: #f0f8ff;border: 1px dotted black;border-radius: 0.25em;box-sizing: border-box;margin-bottom: 0.5em;}#sk-container-id-1 div.sk-estimator:hover {background-color: #d4ebff;}#sk-container-id-1 div.sk-parallel-item::after {content: \"\";width: 100%;border-bottom: 1px solid gray;flex-grow: 1;}#sk-container-id-1 div.sk-label:hover label.sk-toggleable__label {background-color: #d4ebff;}#sk-container-id-1 div.sk-serial::before {content: \"\";position: absolute;border-left: 1px solid gray;box-sizing: border-box;top: 0;bottom: 0;left: 50%;z-index: 0;}#sk-container-id-1 div.sk-serial {display: flex;flex-direction: column;align-items: center;background-color: white;padding-right: 0.2em;padding-left: 0.2em;position: relative;}#sk-container-id-1 div.sk-item {position: relative;z-index: 1;}#sk-container-id-1 div.sk-parallel {display: flex;align-items: stretch;justify-content: center;background-color: white;position: relative;}#sk-container-id-1 div.sk-item::before, #sk-container-id-1 div.sk-parallel-item::before {content: \"\";position: absolute;border-left: 1px solid gray;box-sizing: border-box;top: 0;bottom: 0;left: 50%;z-index: -1;}#sk-container-id-1 div.sk-parallel-item {display: flex;flex-direction: column;z-index: 1;position: relative;background-color: white;}#sk-container-id-1 div.sk-parallel-item:first-child::after {align-self: flex-end;width: 50%;}#sk-container-id-1 div.sk-parallel-item:last-child::after {align-self: flex-start;width: 50%;}#sk-container-id-1 div.sk-parallel-item:only-child::after {width: 0;}#sk-container-id-1 div.sk-dashed-wrapped {border: 1px dashed gray;margin: 0 0.4em 0.5em 0.4em;box-sizing: border-box;padding-bottom: 0.4em;background-color: white;}#sk-container-id-1 div.sk-label label {font-family: monospace;font-weight: bold;display: inline-block;line-height: 1.2em;}#sk-container-id-1 div.sk-label-container {text-align: center;}#sk-container-id-1 div.sk-container {/* jupyter's `normalize.less` sets `[hidden] { display: none; }` but bootstrap.min.css set `[hidden] { display: none !important; }` so we also need the `!important` here to be able to override the default hidden behavior on the sphinx rendered scikit-learn.org. See: https://github.com/scikit-learn/scikit-learn/issues/21755 */display: inline-block !important;position: relative;}#sk-container-id-1 div.sk-text-repr-fallback {display: none;}</style><div id=\"sk-container-id-1\" class=\"sk-top-container\"><div class=\"sk-text-repr-fallback\"><pre>Pipeline(steps=[(&#x27;preprocessor&#x27;,\n",
       "                 ColumnTransformer(transformers=[(&#x27;num&#x27;, StandardScaler(),\n",
       "                                                  [&#x27;Mileage&#x27;, &#x27;Cylinder&#x27;,\n",
       "                                                   &#x27;Liter&#x27;, &#x27;Doors&#x27;]),\n",
       "                                                 (&#x27;cat&#x27;, OneHotEncoder(),\n",
       "                                                  [&#x27;Make&#x27;, &#x27;Model&#x27;, &#x27;Trim&#x27;,\n",
       "                                                   &#x27;Type&#x27;])])),\n",
       "                (&#x27;model&#x27;, LinearRegression())])</pre><b>In a Jupyter environment, please rerun this cell to show the HTML representation or trust the notebook. <br />On GitHub, the HTML representation is unable to render, please try loading this page with nbviewer.org.</b></div><div class=\"sk-container\" hidden><div class=\"sk-item sk-dashed-wrapped\"><div class=\"sk-label-container\"><div class=\"sk-label sk-toggleable\"><input class=\"sk-toggleable__control sk-hidden--visually\" id=\"sk-estimator-id-1\" type=\"checkbox\" ><label for=\"sk-estimator-id-1\" class=\"sk-toggleable__label sk-toggleable__label-arrow\">Pipeline</label><div class=\"sk-toggleable__content\"><pre>Pipeline(steps=[(&#x27;preprocessor&#x27;,\n",
       "                 ColumnTransformer(transformers=[(&#x27;num&#x27;, StandardScaler(),\n",
       "                                                  [&#x27;Mileage&#x27;, &#x27;Cylinder&#x27;,\n",
       "                                                   &#x27;Liter&#x27;, &#x27;Doors&#x27;]),\n",
       "                                                 (&#x27;cat&#x27;, OneHotEncoder(),\n",
       "                                                  [&#x27;Make&#x27;, &#x27;Model&#x27;, &#x27;Trim&#x27;,\n",
       "                                                   &#x27;Type&#x27;])])),\n",
       "                (&#x27;model&#x27;, LinearRegression())])</pre></div></div></div><div class=\"sk-serial\"><div class=\"sk-item sk-dashed-wrapped\"><div class=\"sk-label-container\"><div class=\"sk-label sk-toggleable\"><input class=\"sk-toggleable__control sk-hidden--visually\" id=\"sk-estimator-id-2\" type=\"checkbox\" ><label for=\"sk-estimator-id-2\" class=\"sk-toggleable__label sk-toggleable__label-arrow\">preprocessor: ColumnTransformer</label><div class=\"sk-toggleable__content\"><pre>ColumnTransformer(transformers=[(&#x27;num&#x27;, StandardScaler(),\n",
       "                                 [&#x27;Mileage&#x27;, &#x27;Cylinder&#x27;, &#x27;Liter&#x27;, &#x27;Doors&#x27;]),\n",
       "                                (&#x27;cat&#x27;, OneHotEncoder(),\n",
       "                                 [&#x27;Make&#x27;, &#x27;Model&#x27;, &#x27;Trim&#x27;, &#x27;Type&#x27;])])</pre></div></div></div><div class=\"sk-parallel\"><div class=\"sk-parallel-item\"><div class=\"sk-item\"><div class=\"sk-label-container\"><div class=\"sk-label sk-toggleable\"><input class=\"sk-toggleable__control sk-hidden--visually\" id=\"sk-estimator-id-3\" type=\"checkbox\" ><label for=\"sk-estimator-id-3\" class=\"sk-toggleable__label sk-toggleable__label-arrow\">num</label><div class=\"sk-toggleable__content\"><pre>[&#x27;Mileage&#x27;, &#x27;Cylinder&#x27;, &#x27;Liter&#x27;, &#x27;Doors&#x27;]</pre></div></div></div><div class=\"sk-serial\"><div class=\"sk-item\"><div class=\"sk-estimator sk-toggleable\"><input class=\"sk-toggleable__control sk-hidden--visually\" id=\"sk-estimator-id-4\" type=\"checkbox\" ><label for=\"sk-estimator-id-4\" class=\"sk-toggleable__label sk-toggleable__label-arrow\">StandardScaler</label><div class=\"sk-toggleable__content\"><pre>StandardScaler()</pre></div></div></div></div></div></div><div class=\"sk-parallel-item\"><div class=\"sk-item\"><div class=\"sk-label-container\"><div class=\"sk-label sk-toggleable\"><input class=\"sk-toggleable__control sk-hidden--visually\" id=\"sk-estimator-id-5\" type=\"checkbox\" ><label for=\"sk-estimator-id-5\" class=\"sk-toggleable__label sk-toggleable__label-arrow\">cat</label><div class=\"sk-toggleable__content\"><pre>[&#x27;Make&#x27;, &#x27;Model&#x27;, &#x27;Trim&#x27;, &#x27;Type&#x27;]</pre></div></div></div><div class=\"sk-serial\"><div class=\"sk-item\"><div class=\"sk-estimator sk-toggleable\"><input class=\"sk-toggleable__control sk-hidden--visually\" id=\"sk-estimator-id-6\" type=\"checkbox\" ><label for=\"sk-estimator-id-6\" class=\"sk-toggleable__label sk-toggleable__label-arrow\">OneHotEncoder</label><div class=\"sk-toggleable__content\"><pre>OneHotEncoder()</pre></div></div></div></div></div></div></div></div><div class=\"sk-item\"><div class=\"sk-estimator sk-toggleable\"><input class=\"sk-toggleable__control sk-hidden--visually\" id=\"sk-estimator-id-7\" type=\"checkbox\" ><label for=\"sk-estimator-id-7\" class=\"sk-toggleable__label sk-toggleable__label-arrow\">LinearRegression</label><div class=\"sk-toggleable__content\"><pre>LinearRegression()</pre></div></div></div></div></div></div></div>"
      ],
      "text/plain": [
       "Pipeline(steps=[('preprocessor',\n",
       "                 ColumnTransformer(transformers=[('num', StandardScaler(),\n",
       "                                                  ['Mileage', 'Cylinder',\n",
       "                                                   'Liter', 'Doors']),\n",
       "                                                 ('cat', OneHotEncoder(),\n",
       "                                                  ['Make', 'Model', 'Trim',\n",
       "                                                   'Type'])])),\n",
       "                ('model', LinearRegression())])"
      ]
     },
     "execution_count": 19,
     "metadata": {},
     "output_type": "execute_result"
    }
   ],
   "source": [
    "#pipeline fit\n",
    "pipe.fit(X_train,y_train)"
   ]
  },
  {
   "cell_type": "code",
   "execution_count": 20,
   "id": "fefc1167",
   "metadata": {},
   "outputs": [
    {
     "name": "stdout",
     "output_type": "stream",
     "text": [
      "RMSE 835.1007057381224\n",
      "R2 0.9912072831193697\n"
     ]
    }
   ],
   "source": [
    "y_pred=pipe.predict(X_test)\n",
    "print('RMSE',mean_squared_error(y_test,y_pred)**0.5)\n",
    "print('R2',r2_score(y_test,y_pred))"
   ]
  },
  {
   "cell_type": "code",
   "execution_count": 25,
   "id": "ac6c6289",
   "metadata": {},
   "outputs": [
    {
     "data": {
      "text/html": [
       "<style>#sk-container-id-2 {color: black;background-color: white;}#sk-container-id-2 pre{padding: 0;}#sk-container-id-2 div.sk-toggleable {background-color: white;}#sk-container-id-2 label.sk-toggleable__label {cursor: pointer;display: block;width: 100%;margin-bottom: 0;padding: 0.3em;box-sizing: border-box;text-align: center;}#sk-container-id-2 label.sk-toggleable__label-arrow:before {content: \"▸\";float: left;margin-right: 0.25em;color: #696969;}#sk-container-id-2 label.sk-toggleable__label-arrow:hover:before {color: black;}#sk-container-id-2 div.sk-estimator:hover label.sk-toggleable__label-arrow:before {color: black;}#sk-container-id-2 div.sk-toggleable__content {max-height: 0;max-width: 0;overflow: hidden;text-align: left;background-color: #f0f8ff;}#sk-container-id-2 div.sk-toggleable__content pre {margin: 0.2em;color: black;border-radius: 0.25em;background-color: #f0f8ff;}#sk-container-id-2 input.sk-toggleable__control:checked~div.sk-toggleable__content {max-height: 200px;max-width: 100%;overflow: auto;}#sk-container-id-2 input.sk-toggleable__control:checked~label.sk-toggleable__label-arrow:before {content: \"▾\";}#sk-container-id-2 div.sk-estimator input.sk-toggleable__control:checked~label.sk-toggleable__label {background-color: #d4ebff;}#sk-container-id-2 div.sk-label input.sk-toggleable__control:checked~label.sk-toggleable__label {background-color: #d4ebff;}#sk-container-id-2 input.sk-hidden--visually {border: 0;clip: rect(1px 1px 1px 1px);clip: rect(1px, 1px, 1px, 1px);height: 1px;margin: -1px;overflow: hidden;padding: 0;position: absolute;width: 1px;}#sk-container-id-2 div.sk-estimator {font-family: monospace;background-color: #f0f8ff;border: 1px dotted black;border-radius: 0.25em;box-sizing: border-box;margin-bottom: 0.5em;}#sk-container-id-2 div.sk-estimator:hover {background-color: #d4ebff;}#sk-container-id-2 div.sk-parallel-item::after {content: \"\";width: 100%;border-bottom: 1px solid gray;flex-grow: 1;}#sk-container-id-2 div.sk-label:hover label.sk-toggleable__label {background-color: #d4ebff;}#sk-container-id-2 div.sk-serial::before {content: \"\";position: absolute;border-left: 1px solid gray;box-sizing: border-box;top: 0;bottom: 0;left: 50%;z-index: 0;}#sk-container-id-2 div.sk-serial {display: flex;flex-direction: column;align-items: center;background-color: white;padding-right: 0.2em;padding-left: 0.2em;position: relative;}#sk-container-id-2 div.sk-item {position: relative;z-index: 1;}#sk-container-id-2 div.sk-parallel {display: flex;align-items: stretch;justify-content: center;background-color: white;position: relative;}#sk-container-id-2 div.sk-item::before, #sk-container-id-2 div.sk-parallel-item::before {content: \"\";position: absolute;border-left: 1px solid gray;box-sizing: border-box;top: 0;bottom: 0;left: 50%;z-index: -1;}#sk-container-id-2 div.sk-parallel-item {display: flex;flex-direction: column;z-index: 1;position: relative;background-color: white;}#sk-container-id-2 div.sk-parallel-item:first-child::after {align-self: flex-end;width: 50%;}#sk-container-id-2 div.sk-parallel-item:last-child::after {align-self: flex-start;width: 50%;}#sk-container-id-2 div.sk-parallel-item:only-child::after {width: 0;}#sk-container-id-2 div.sk-dashed-wrapped {border: 1px dashed gray;margin: 0 0.4em 0.5em 0.4em;box-sizing: border-box;padding-bottom: 0.4em;background-color: white;}#sk-container-id-2 div.sk-label label {font-family: monospace;font-weight: bold;display: inline-block;line-height: 1.2em;}#sk-container-id-2 div.sk-label-container {text-align: center;}#sk-container-id-2 div.sk-container {/* jupyter's `normalize.less` sets `[hidden] { display: none; }` but bootstrap.min.css set `[hidden] { display: none !important; }` so we also need the `!important` here to be able to override the default hidden behavior on the sphinx rendered scikit-learn.org. See: https://github.com/scikit-learn/scikit-learn/issues/21755 */display: inline-block !important;position: relative;}#sk-container-id-2 div.sk-text-repr-fallback {display: none;}</style><div id=\"sk-container-id-2\" class=\"sk-top-container\"><div class=\"sk-text-repr-fallback\"><pre>Pipeline(steps=[(&#x27;preprocessor&#x27;,\n",
       "                 ColumnTransformer(transformers=[(&#x27;num&#x27;, StandardScaler(),\n",
       "                                                  [&#x27;Mileage&#x27;, &#x27;Cylinder&#x27;,\n",
       "                                                   &#x27;Liter&#x27;, &#x27;Doors&#x27;]),\n",
       "                                                 (&#x27;cat&#x27;, OneHotEncoder(),\n",
       "                                                  [&#x27;Make&#x27;, &#x27;Model&#x27;, &#x27;Trim&#x27;,\n",
       "                                                   &#x27;Type&#x27;])])),\n",
       "                (&#x27;model&#x27;, LinearRegression())])</pre><b>In a Jupyter environment, please rerun this cell to show the HTML representation or trust the notebook. <br />On GitHub, the HTML representation is unable to render, please try loading this page with nbviewer.org.</b></div><div class=\"sk-container\" hidden><div class=\"sk-item sk-dashed-wrapped\"><div class=\"sk-label-container\"><div class=\"sk-label sk-toggleable\"><input class=\"sk-toggleable__control sk-hidden--visually\" id=\"sk-estimator-id-8\" type=\"checkbox\" ><label for=\"sk-estimator-id-8\" class=\"sk-toggleable__label sk-toggleable__label-arrow\">Pipeline</label><div class=\"sk-toggleable__content\"><pre>Pipeline(steps=[(&#x27;preprocessor&#x27;,\n",
       "                 ColumnTransformer(transformers=[(&#x27;num&#x27;, StandardScaler(),\n",
       "                                                  [&#x27;Mileage&#x27;, &#x27;Cylinder&#x27;,\n",
       "                                                   &#x27;Liter&#x27;, &#x27;Doors&#x27;]),\n",
       "                                                 (&#x27;cat&#x27;, OneHotEncoder(),\n",
       "                                                  [&#x27;Make&#x27;, &#x27;Model&#x27;, &#x27;Trim&#x27;,\n",
       "                                                   &#x27;Type&#x27;])])),\n",
       "                (&#x27;model&#x27;, LinearRegression())])</pre></div></div></div><div class=\"sk-serial\"><div class=\"sk-item sk-dashed-wrapped\"><div class=\"sk-label-container\"><div class=\"sk-label sk-toggleable\"><input class=\"sk-toggleable__control sk-hidden--visually\" id=\"sk-estimator-id-9\" type=\"checkbox\" ><label for=\"sk-estimator-id-9\" class=\"sk-toggleable__label sk-toggleable__label-arrow\">preprocessor: ColumnTransformer</label><div class=\"sk-toggleable__content\"><pre>ColumnTransformer(transformers=[(&#x27;num&#x27;, StandardScaler(),\n",
       "                                 [&#x27;Mileage&#x27;, &#x27;Cylinder&#x27;, &#x27;Liter&#x27;, &#x27;Doors&#x27;]),\n",
       "                                (&#x27;cat&#x27;, OneHotEncoder(),\n",
       "                                 [&#x27;Make&#x27;, &#x27;Model&#x27;, &#x27;Trim&#x27;, &#x27;Type&#x27;])])</pre></div></div></div><div class=\"sk-parallel\"><div class=\"sk-parallel-item\"><div class=\"sk-item\"><div class=\"sk-label-container\"><div class=\"sk-label sk-toggleable\"><input class=\"sk-toggleable__control sk-hidden--visually\" id=\"sk-estimator-id-10\" type=\"checkbox\" ><label for=\"sk-estimator-id-10\" class=\"sk-toggleable__label sk-toggleable__label-arrow\">num</label><div class=\"sk-toggleable__content\"><pre>[&#x27;Mileage&#x27;, &#x27;Cylinder&#x27;, &#x27;Liter&#x27;, &#x27;Doors&#x27;]</pre></div></div></div><div class=\"sk-serial\"><div class=\"sk-item\"><div class=\"sk-estimator sk-toggleable\"><input class=\"sk-toggleable__control sk-hidden--visually\" id=\"sk-estimator-id-11\" type=\"checkbox\" ><label for=\"sk-estimator-id-11\" class=\"sk-toggleable__label sk-toggleable__label-arrow\">StandardScaler</label><div class=\"sk-toggleable__content\"><pre>StandardScaler()</pre></div></div></div></div></div></div><div class=\"sk-parallel-item\"><div class=\"sk-item\"><div class=\"sk-label-container\"><div class=\"sk-label sk-toggleable\"><input class=\"sk-toggleable__control sk-hidden--visually\" id=\"sk-estimator-id-12\" type=\"checkbox\" ><label for=\"sk-estimator-id-12\" class=\"sk-toggleable__label sk-toggleable__label-arrow\">cat</label><div class=\"sk-toggleable__content\"><pre>[&#x27;Make&#x27;, &#x27;Model&#x27;, &#x27;Trim&#x27;, &#x27;Type&#x27;]</pre></div></div></div><div class=\"sk-serial\"><div class=\"sk-item\"><div class=\"sk-estimator sk-toggleable\"><input class=\"sk-toggleable__control sk-hidden--visually\" id=\"sk-estimator-id-13\" type=\"checkbox\" ><label for=\"sk-estimator-id-13\" class=\"sk-toggleable__label sk-toggleable__label-arrow\">OneHotEncoder</label><div class=\"sk-toggleable__content\"><pre>OneHotEncoder()</pre></div></div></div></div></div></div></div></div><div class=\"sk-item\"><div class=\"sk-estimator sk-toggleable\"><input class=\"sk-toggleable__control sk-hidden--visually\" id=\"sk-estimator-id-14\" type=\"checkbox\" ><label for=\"sk-estimator-id-14\" class=\"sk-toggleable__label sk-toggleable__label-arrow\">LinearRegression</label><div class=\"sk-toggleable__content\"><pre>LinearRegression()</pre></div></div></div></div></div></div></div>"
      ],
      "text/plain": [
       "Pipeline(steps=[('preprocessor',\n",
       "                 ColumnTransformer(transformers=[('num', StandardScaler(),\n",
       "                                                  ['Mileage', 'Cylinder',\n",
       "                                                   'Liter', 'Doors']),\n",
       "                                                 ('cat', OneHotEncoder(),\n",
       "                                                  ['Make', 'Model', 'Trim',\n",
       "                                                   'Type'])])),\n",
       "                ('model', LinearRegression())])"
      ]
     },
     "execution_count": 25,
     "metadata": {},
     "output_type": "execute_result"
    }
   ],
   "source": [
    "#isterseniz veri setinin tammamıyla tekrar eğitim yapabilirsiniz.\n",
    "pipe.fit(X,y)"
   ]
  },
  {
   "cell_type": "markdown",
   "id": "7259d510",
   "metadata": {},
   "source": [
    "## Streamlit ile modeli deploy etme\n"
   ]
  },
  {
   "cell_type": "code",
   "execution_count": 21,
   "id": "849a265d",
   "metadata": {},
   "outputs": [
    {
     "name": "stdout",
     "output_type": "stream",
     "text": [
      "Collecting streamlit\n",
      "  Downloading streamlit-1.35.0-py2.py3-none-any.whl (8.6 MB)\n",
      "                                              0.0/8.6 MB ? eta -:--:--\n",
      "                                              0.0/8.6 MB 1.4 MB/s eta 0:00:07\n",
      "                                              0.0/8.6 MB 495.5 kB/s eta 0:00:18\n",
      "                                              0.1/8.6 MB 871.5 kB/s eta 0:00:10\n",
      "                                              0.1/8.6 MB 804.6 kB/s eta 0:00:11\n",
      "                                              0.2/8.6 MB 807.1 kB/s eta 0:00:11\n",
      "     -                                        0.3/8.6 MB 1.1 MB/s eta 0:00:08\n",
      "     -                                        0.4/8.6 MB 1.3 MB/s eta 0:00:07\n",
      "     --                                       0.6/8.6 MB 1.7 MB/s eta 0:00:05\n",
      "     ---                                      0.8/8.6 MB 2.0 MB/s eta 0:00:04\n",
      "     ----                                     1.0/8.6 MB 2.2 MB/s eta 0:00:04\n",
      "     -----                                    1.2/8.6 MB 2.4 MB/s eta 0:00:04\n",
      "     ------                                   1.4/8.6 MB 2.5 MB/s eta 0:00:03\n",
      "     -------                                  1.6/8.6 MB 2.7 MB/s eta 0:00:03\n",
      "     -------                                  1.6/8.6 MB 2.8 MB/s eta 0:00:03\n",
      "     ---------                                1.9/8.6 MB 2.9 MB/s eta 0:00:03\n",
      "     ---------                                2.1/8.6 MB 2.9 MB/s eta 0:00:03\n",
      "     ----------                               2.3/8.6 MB 3.0 MB/s eta 0:00:03\n",
      "     ----------                               2.4/8.6 MB 3.0 MB/s eta 0:00:03\n",
      "     ----------                               2.4/8.6 MB 3.0 MB/s eta 0:00:03\n",
      "     ----------                               2.4/8.6 MB 3.0 MB/s eta 0:00:03\n",
      "     ----------                               2.4/8.6 MB 3.0 MB/s eta 0:00:03\n",
      "     ----------                               2.4/8.6 MB 3.0 MB/s eta 0:00:03\n",
      "     -----------                              2.4/8.6 MB 2.3 MB/s eta 0:00:03\n",
      "     -----------------                        3.7/8.6 MB 3.4 MB/s eta 0:00:02\n",
      "     -----------------                        3.8/8.6 MB 3.4 MB/s eta 0:00:02\n",
      "     ------------------                       4.1/8.6 MB 3.5 MB/s eta 0:00:02\n",
      "     -------------------                      4.2/8.6 MB 3.5 MB/s eta 0:00:02\n",
      "     --------------------                     4.5/8.6 MB 3.5 MB/s eta 0:00:02\n",
      "     ---------------------                    4.6/8.6 MB 3.5 MB/s eta 0:00:02\n",
      "     ----------------------                   4.8/8.6 MB 3.5 MB/s eta 0:00:02\n",
      "     -----------------------                  5.0/8.6 MB 3.6 MB/s eta 0:00:01\n",
      "     ------------------------                 5.2/8.6 MB 3.6 MB/s eta 0:00:01\n",
      "     -------------------------                5.4/8.6 MB 3.6 MB/s eta 0:00:01\n",
      "     --------------------------               5.6/8.6 MB 3.6 MB/s eta 0:00:01\n",
      "     ---------------------------              5.8/8.6 MB 3.6 MB/s eta 0:00:01\n",
      "     ---------------------------              6.0/8.6 MB 3.7 MB/s eta 0:00:01\n",
      "     ----------------------------             6.2/8.6 MB 3.6 MB/s eta 0:00:01\n",
      "     -----------------------------            6.3/8.6 MB 3.7 MB/s eta 0:00:01\n",
      "     ------------------------------           6.6/8.6 MB 3.7 MB/s eta 0:00:01\n",
      "     -------------------------------          6.8/8.6 MB 3.7 MB/s eta 0:00:01\n",
      "     --------------------------------         7.0/8.6 MB 3.7 MB/s eta 0:00:01\n",
      "     ---------------------------------        7.2/8.6 MB 3.7 MB/s eta 0:00:01\n",
      "     ----------------------------------       7.3/8.6 MB 3.7 MB/s eta 0:00:01\n",
      "     -----------------------------------      7.5/8.6 MB 3.7 MB/s eta 0:00:01\n",
      "     -----------------------------------      7.6/8.6 MB 3.8 MB/s eta 0:00:01\n",
      "     ------------------------------------     7.8/8.6 MB 3.7 MB/s eta 0:00:01\n",
      "     -------------------------------------    8.1/8.6 MB 3.8 MB/s eta 0:00:01\n",
      "     --------------------------------------   8.3/8.6 MB 3.8 MB/s eta 0:00:01\n",
      "     ---------------------------------------  8.5/8.6 MB 3.8 MB/s eta 0:00:01\n",
      "     ---------------------------------------  8.6/8.6 MB 3.8 MB/s eta 0:00:01\n",
      "     ---------------------------------------- 8.6/8.6 MB 3.7 MB/s eta 0:00:00\n",
      "Collecting altair<6,>=4.0 (from streamlit)\n",
      "  Downloading altair-5.3.0-py3-none-any.whl (857 kB)\n",
      "                                              0.0/857.8 kB ? eta -:--:--\n",
      "     ----                                   112.6/857.8 kB 6.4 MB/s eta 0:00:01\n",
      "     -----------------                      399.4/857.8 kB 4.9 MB/s eta 0:00:01\n",
      "     --------------------------             593.9/857.8 kB 4.7 MB/s eta 0:00:01\n",
      "     -----------------------------------    809.0/857.8 kB 4.6 MB/s eta 0:00:01\n",
      "     -------------------------------------- 857.8/857.8 kB 4.2 MB/s eta 0:00:00\n",
      "Collecting blinker<2,>=1.0.0 (from streamlit)\n",
      "  Downloading blinker-1.8.2-py3-none-any.whl (9.5 kB)\n",
      "Requirement already satisfied: cachetools<6,>=4.0 in c:\\users\\kerim\\anaconda3\\lib\\site-packages (from streamlit) (5.3.1)\n",
      "Requirement already satisfied: click<9,>=7.0 in c:\\users\\kerim\\anaconda3\\lib\\site-packages (from streamlit) (8.0.4)\n",
      "Requirement already satisfied: numpy<2,>=1.19.3 in c:\\users\\kerim\\anaconda3\\lib\\site-packages (from streamlit) (1.24.3)\n",
      "Requirement already satisfied: packaging<25,>=16.8 in c:\\users\\kerim\\anaconda3\\lib\\site-packages (from streamlit) (23.0)\n",
      "Requirement already satisfied: pandas<3,>=1.3.0 in c:\\users\\kerim\\anaconda3\\lib\\site-packages (from streamlit) (1.5.3)\n",
      "Requirement already satisfied: pillow<11,>=7.1.0 in c:\\users\\kerim\\anaconda3\\lib\\site-packages (from streamlit) (9.4.0)\n",
      "Requirement already satisfied: protobuf<5,>=3.20 in c:\\users\\kerim\\anaconda3\\lib\\site-packages (from streamlit) (4.21.12)\n",
      "Requirement already satisfied: pyarrow>=7.0 in c:\\users\\kerim\\anaconda3\\lib\\site-packages (from streamlit) (11.0.0)\n",
      "Requirement already satisfied: requests<3,>=2.27 in c:\\users\\kerim\\anaconda3\\lib\\site-packages (from streamlit) (2.29.0)\n",
      "Collecting rich<14,>=10.14.0 (from streamlit)\n",
      "  Downloading rich-13.7.1-py3-none-any.whl (240 kB)\n",
      "                                              0.0/240.7 kB ? eta -:--:--\n",
      "     -------------------------              163.8/240.7 kB 4.8 MB/s eta 0:00:01\n",
      "     -------------------------------------- 240.7/240.7 kB 3.7 MB/s eta 0:00:00\n",
      "Requirement already satisfied: tenacity<9,>=8.1.0 in c:\\users\\kerim\\anaconda3\\lib\\site-packages (from streamlit) (8.2.2)\n",
      "Requirement already satisfied: toml<2,>=0.10.1 in c:\\users\\kerim\\anaconda3\\lib\\site-packages (from streamlit) (0.10.2)\n",
      "Requirement already satisfied: typing-extensions<5,>=4.3.0 in c:\\users\\kerim\\anaconda3\\lib\\site-packages (from streamlit) (4.5.0)\n",
      "Collecting gitpython!=3.1.19,<4,>=3.0.7 (from streamlit)\n",
      "  Downloading GitPython-3.1.43-py3-none-any.whl (207 kB)\n",
      "                                              0.0/207.3 kB ? eta -:--:--\n",
      "     ----------------------------           153.6/207.3 kB 4.5 MB/s eta 0:00:01\n",
      "     -------------------------------------- 207.3/207.3 kB 3.1 MB/s eta 0:00:00\n",
      "Collecting pydeck<1,>=0.8.0b4 (from streamlit)\n",
      "  Downloading pydeck-0.9.1-py2.py3-none-any.whl (6.9 MB)\n",
      "                                              0.0/6.9 MB ? eta -:--:--\n",
      "     -                                        0.2/6.9 MB 5.1 MB/s eta 0:00:02\n",
      "     --                                       0.4/6.9 MB 4.1 MB/s eta 0:00:02\n",
      "     --                                       0.5/6.9 MB 3.5 MB/s eta 0:00:02\n",
      "     ----                                     0.8/6.9 MB 4.2 MB/s eta 0:00:02\n",
      "     -----                                    0.9/6.9 MB 4.3 MB/s eta 0:00:02\n",
      "     ------                                   1.2/6.9 MB 4.1 MB/s eta 0:00:02\n",
      "     -------                                  1.3/6.9 MB 4.3 MB/s eta 0:00:02\n",
      "     --------                                 1.5/6.9 MB 4.2 MB/s eta 0:00:02\n",
      "     ---------                                1.6/6.9 MB 4.0 MB/s eta 0:00:02\n",
      "     ----------                               1.9/6.9 MB 4.2 MB/s eta 0:00:02\n",
      "     ------------                             2.1/6.9 MB 4.2 MB/s eta 0:00:02\n",
      "     -------------                            2.3/6.9 MB 4.2 MB/s eta 0:00:02\n",
      "     --------------                           2.5/6.9 MB 4.2 MB/s eta 0:00:02\n",
      "     ---------------                          2.7/6.9 MB 4.2 MB/s eta 0:00:02\n",
      "     ----------------                         2.9/6.9 MB 4.2 MB/s eta 0:00:01\n",
      "     -----------------                        3.1/6.9 MB 4.2 MB/s eta 0:00:01\n",
      "     ------------------                       3.3/6.9 MB 4.2 MB/s eta 0:00:01\n",
      "     -------------------                      3.4/6.9 MB 4.1 MB/s eta 0:00:01\n",
      "     ---------------------                    3.7/6.9 MB 4.2 MB/s eta 0:00:01\n",
      "     ----------------------                   3.9/6.9 MB 4.2 MB/s eta 0:00:01\n",
      "     -----------------------                  4.0/6.9 MB 4.2 MB/s eta 0:00:01\n",
      "     ------------------------                 4.2/6.9 MB 4.2 MB/s eta 0:00:01\n",
      "     ------------------------                 4.3/6.9 MB 4.1 MB/s eta 0:00:01\n",
      "     -------------------------                4.5/6.9 MB 4.0 MB/s eta 0:00:01\n",
      "     --------------------------               4.6/6.9 MB 4.1 MB/s eta 0:00:01\n",
      "     ----------------------------             4.8/6.9 MB 4.1 MB/s eta 0:00:01\n",
      "     ----------------------------             4.9/6.9 MB 4.0 MB/s eta 0:00:01\n",
      "     ----------------------------             4.9/6.9 MB 4.0 MB/s eta 0:00:01\n",
      "     ----------------------------             4.9/6.9 MB 4.0 MB/s eta 0:00:01\n",
      "     ----------------------------             4.9/6.9 MB 4.0 MB/s eta 0:00:01\n",
      "     ----------------------------             4.9/6.9 MB 4.0 MB/s eta 0:00:01\n",
      "     ----------------------------             5.0/6.9 MB 3.3 MB/s eta 0:00:01\n",
      "     -----------------------------------      6.1/6.9 MB 3.9 MB/s eta 0:00:01\n",
      "     ------------------------------------     6.3/6.9 MB 3.9 MB/s eta 0:00:01\n",
      "     -------------------------------------    6.5/6.9 MB 3.9 MB/s eta 0:00:01\n",
      "     ---------------------------------------  6.7/6.9 MB 4.0 MB/s eta 0:00:01\n",
      "     ---------------------------------------  6.9/6.9 MB 3.9 MB/s eta 0:00:01\n",
      "     ---------------------------------------  6.9/6.9 MB 3.9 MB/s eta 0:00:01\n",
      "     ---------------------------------------  6.9/6.9 MB 3.9 MB/s eta 0:00:01\n",
      "     ---------------------------------------- 6.9/6.9 MB 3.7 MB/s eta 0:00:00\n",
      "Requirement already satisfied: tornado<7,>=6.0.3 in c:\\users\\kerim\\anaconda3\\lib\\site-packages (from streamlit) (6.2)\n",
      "Requirement already satisfied: watchdog>=2.1.5 in c:\\users\\kerim\\anaconda3\\lib\\site-packages (from streamlit) (2.1.6)\n",
      "Requirement already satisfied: jinja2 in c:\\users\\kerim\\anaconda3\\lib\\site-packages (from altair<6,>=4.0->streamlit) (3.1.2)\n",
      "Requirement already satisfied: jsonschema>=3.0 in c:\\users\\kerim\\anaconda3\\lib\\site-packages (from altair<6,>=4.0->streamlit) (4.17.3)\n",
      "Requirement already satisfied: toolz in c:\\users\\kerim\\anaconda3\\lib\\site-packages (from altair<6,>=4.0->streamlit) (0.12.0)\n",
      "Requirement already satisfied: colorama in c:\\users\\kerim\\anaconda3\\lib\\site-packages (from click<9,>=7.0->streamlit) (0.4.6)\n",
      "Collecting gitdb<5,>=4.0.1 (from gitpython!=3.1.19,<4,>=3.0.7->streamlit)\n",
      "  Downloading gitdb-4.0.11-py3-none-any.whl (62 kB)\n",
      "                                              0.0/62.7 kB ? eta -:--:--\n",
      "     ---------------------------------------- 62.7/62.7 kB 3.3 MB/s eta 0:00:00\n",
      "Requirement already satisfied: python-dateutil>=2.8.1 in c:\\users\\kerim\\anaconda3\\lib\\site-packages (from pandas<3,>=1.3.0->streamlit) (2.8.2)\n",
      "Requirement already satisfied: pytz>=2020.1 in c:\\users\\kerim\\anaconda3\\lib\\site-packages (from pandas<3,>=1.3.0->streamlit) (2022.7)\n",
      "Requirement already satisfied: charset-normalizer<4,>=2 in c:\\users\\kerim\\anaconda3\\lib\\site-packages (from requests<3,>=2.27->streamlit) (2.0.4)\n",
      "Requirement already satisfied: idna<4,>=2.5 in c:\\users\\kerim\\anaconda3\\lib\\site-packages (from requests<3,>=2.27->streamlit) (3.4)\n",
      "Requirement already satisfied: urllib3<1.27,>=1.21.1 in c:\\users\\kerim\\anaconda3\\lib\\site-packages (from requests<3,>=2.27->streamlit) (1.26.16)\n",
      "Requirement already satisfied: certifi>=2017.4.17 in c:\\users\\kerim\\anaconda3\\lib\\site-packages (from requests<3,>=2.27->streamlit) (2024.2.2)\n",
      "Requirement already satisfied: markdown-it-py>=2.2.0 in c:\\users\\kerim\\anaconda3\\lib\\site-packages (from rich<14,>=10.14.0->streamlit) (2.2.0)\n",
      "Requirement already satisfied: pygments<3.0.0,>=2.13.0 in c:\\users\\kerim\\anaconda3\\lib\\site-packages (from rich<14,>=10.14.0->streamlit) (2.15.1)\n",
      "Collecting smmap<6,>=3.0.1 (from gitdb<5,>=4.0.1->gitpython!=3.1.19,<4,>=3.0.7->streamlit)\n",
      "  Downloading smmap-5.0.1-py3-none-any.whl (24 kB)\n",
      "Requirement already satisfied: MarkupSafe>=2.0 in c:\\users\\kerim\\anaconda3\\lib\\site-packages (from jinja2->altair<6,>=4.0->streamlit) (2.1.1)\n",
      "Requirement already satisfied: attrs>=17.4.0 in c:\\users\\kerim\\anaconda3\\lib\\site-packages (from jsonschema>=3.0->altair<6,>=4.0->streamlit) (22.1.0)\n",
      "Requirement already satisfied: pyrsistent!=0.17.0,!=0.17.1,!=0.17.2,>=0.14.0 in c:\\users\\kerim\\anaconda3\\lib\\site-packages (from jsonschema>=3.0->altair<6,>=4.0->streamlit) (0.18.0)\n",
      "Requirement already satisfied: mdurl~=0.1 in c:\\users\\kerim\\anaconda3\\lib\\site-packages (from markdown-it-py>=2.2.0->rich<14,>=10.14.0->streamlit) (0.1.0)\n",
      "Requirement already satisfied: six>=1.5 in c:\\users\\kerim\\anaconda3\\lib\\site-packages (from python-dateutil>=2.8.1->pandas<3,>=1.3.0->streamlit) (1.16.0)\n",
      "Installing collected packages: smmap, blinker, rich, pydeck, gitdb, gitpython, altair, streamlit\n",
      "Successfully installed altair-5.3.0 blinker-1.8.2 gitdb-4.0.11 gitpython-3.1.43 pydeck-0.9.1 rich-13.7.1 smmap-5.0.1 streamlit-1.35.0\n"
     ]
    }
   ],
   "source": [
    "!pip install streamlit"
   ]
  },
  {
   "cell_type": "code",
   "execution_count": 22,
   "id": "81085288",
   "metadata": {},
   "outputs": [
    {
     "data": {
      "text/plain": [
       "50387"
      ]
     },
     "execution_count": 22,
     "metadata": {},
     "output_type": "execute_result"
    }
   ],
   "source": [
    "df['Mileage'].max()"
   ]
  },
  {
   "cell_type": "code",
   "execution_count": 23,
   "id": "1f43ffb6",
   "metadata": {},
   "outputs": [
    {
     "data": {
      "text/plain": [
       "array(['Sedan', 'Convertible', 'Hatchback', 'Coupe', 'Wagon'],\n",
       "      dtype=object)"
      ]
     },
     "execution_count": 23,
     "metadata": {},
     "output_type": "execute_result"
    }
   ],
   "source": [
    "df['Type'].unique()"
   ]
  },
  {
   "cell_type": "code",
   "execution_count": 24,
   "id": "4cb76064",
   "metadata": {},
   "outputs": [
    {
     "data": {
      "text/plain": [
       "6.0"
      ]
     },
     "execution_count": 24,
     "metadata": {},
     "output_type": "execute_result"
    }
   ],
   "source": [
    "df['Liter'].max()"
   ]
  },
  {
   "cell_type": "code",
   "execution_count": 26,
   "id": "df738ac3",
   "metadata": {},
   "outputs": [
    {
     "name": "stderr",
     "output_type": "stream",
     "text": [
      "2024-06-14 17:32:17.543 \n",
      "  \u001b[33m\u001b[1mWarning:\u001b[0m to view this Streamlit app on a browser, run it with the following\n",
      "  command:\n",
      "\n",
      "    streamlit run C:\\Users\\kerim\\anaconda3\\Lib\\site-packages\\ipykernel_launcher.py [ARGUMENTS]\n",
      "2024-06-14 17:32:17.544 Session state does not function when running a script without `streamlit run`\n"
     ]
    }
   ],
   "source": [
    "import streamlit as st\n",
    "#price tahmin fonksiyonu tanımla\n",
    "def price(make,model,trim,mileage,car_type,cylinder,liter,doors,cruise,sound,leather):\n",
    "    input_data=pd.DataFrame({'Make':[make],\n",
    "                             'Model':[model],\n",
    "                             'Trim':[trim],\n",
    "                             'Mileage':[mileage],\n",
    "                             'Type':[car_type],\n",
    "                             'Cylinder':[cylinder],\n",
    "                             'Liter':[liter],\n",
    "                             'Doors':[doors],\n",
    "                             'Cruise':[cruise],\n",
    "                             'Sound':[sound],\n",
    "                             'Leather':[leather]})\n",
    "    prediction=pipe.predict(input_data)[0]\n",
    "    return prediction\n",
    "st.title(\"II. El Araba Fiyatı Tahmin:red_car: @kerimbirtem\")\n",
    "st.write('Arabanın özelliklerini seçiniz')\n",
    "make=st.selectbox('Marka',df['Make'].unique())\n",
    "model=st.selectbox('Model',df[df['Make']==make]['Model'].unique())\n",
    "trim=st.selectbox('Trim',df[(df['Make']==make) &(df['Model']==model)]['Trim'].unique())\n",
    "mileage=st.number_input('Kilometre',100,200000)\n",
    "car_type=st.selectbox('Araç Tipi',df[(df['Make']==make) &(df['Model']==model)&(df['Trim']==trim)]['Type'].unique())\n",
    "cylinder=st.selectbox('Cylinder',df['Cylinder'].unique())\n",
    "liter=st.number_input('Yakıt hacmi',1,10)\n",
    "doors=st.selectbox('Kapı sayısı',df['Doors'].unique())\n",
    "cruise=st.radio('Hız Sbt.',[True,False])\n",
    "sound=st.radio('Ses Sis.',[True,False])\n",
    "leather=st.radio('Deri döşeme.',[True,False])\n",
    "if st.button('Tahmin'):\n",
    "    pred=price(make,model,trim,mileage,car_type,cylinder,liter,doors,cruise,sound,leather)\n",
    "    st.write('Fiyat:$', round(pred[0],2))"
   ]
  },
  {
   "cell_type": "code",
   "execution_count": null,
   "id": "997fcc0f",
   "metadata": {},
   "outputs": [],
   "source": [
    "# streamlit run C:\\Users\\kerim\\anaconda3\\Lib\\site-packages\\ipykernel_launcher.py"
   ]
  }
 ],
 "metadata": {
  "kernelspec": {
   "display_name": "Python 3 (ipykernel)",
   "language": "python",
   "name": "python3"
  },
  "language_info": {
   "codemirror_mode": {
    "name": "ipython",
    "version": 3
   },
   "file_extension": ".py",
   "mimetype": "text/x-python",
   "name": "python",
   "nbconvert_exporter": "python",
   "pygments_lexer": "ipython3",
   "version": "3.11.3"
  }
 },
 "nbformat": 4,
 "nbformat_minor": 5
}
